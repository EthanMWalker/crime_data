{
 "cells": [
  {
   "cell_type": "code",
   "execution_count": 1,
   "metadata": {},
   "outputs": [],
   "source": [
    "import numpy as np\n",
    "import pandas as pd\n",
    "import matplotlib.pyplot as plt"
   ]
  },
  {
   "cell_type": "code",
   "execution_count": 2,
   "metadata": {
    "tags": []
   },
   "outputs": [],
   "source": [
    "df = pd.read_csv('UT-2018/UT/NIBRS_ARRESTEE.csv')\n",
    "offense_code_df = pd.read_csv('UT-2018/UT/NIBRS_OFFENSE_TYPE.csv')\n",
    "race_df = pd.read_csv('UT-2018/UT/REF_RACE.csv')\n",
    "eth_df = pd.read_csv('UT-2018/UT/NIBRS_ETHNICITY.csv')\n",
    "incidents_df = pd.read_csv('UT-2018/UT/NIBRS_OFFENDER.csv')"
   ]
  },
  {
   "cell_type": "code",
   "execution_count": 3,
   "metadata": {
    "scrolled": false
   },
   "outputs": [],
   "source": [
    "# index = offense_code_df.index\n",
    "# for i in index:\n",
    "#     print(offense_code_df.loc[i,'OFFENSE_TYPE_ID'], offense_code_df.loc[i,'OFFENSE_NAME'])"
   ]
  },
  {
   "cell_type": "code",
   "execution_count": 4,
   "metadata": {},
   "outputs": [],
   "source": [
    "drug_mask = df.OFFENSE_TYPE_ID == 16\n",
    "hisp_mask = df.ETHNICITY_ID == 1\n",
    "black_mask = df.RACE_ID == 2\n",
    "white_mask = df.RACE_ID == 1\n",
    "white_non_hisp_mask = white_mask & ~hisp_mask\n"
   ]
  },
  {
   "cell_type": "code",
   "execution_count": 14,
   "metadata": {},
   "outputs": [],
   "source": [
    "def disparity(df, typeof, year, pop, prob_white, prob_black, prob_hisp):\n",
    "    \n",
    "    if typeof == 'drug':\n",
    "        drug_mask = df.OFFENSE_TYPE_ID == 16\n",
    "    \n",
    "    hisp_mask = df.ETHNICITY_ID == 1\n",
    "    black_mask = df.RACE_ID == 2\n",
    "    white_mask = df.RACE_ID == 1\n",
    "    white_non_hisp_mask = white_mask & ~hisp_mask\n",
    "  \n",
    "    arrests = df[drug_mask].INCIDENT_ID.count()\n",
    "    white_arrests = df[drug_mask & white_non_hisp_mask].INCIDENT_ID.count()\n",
    "    black_arrests = df[drug_mask & black_mask].INCIDENT_ID.count()\n",
    "    hisp_arrests  = df[drug_mask & hisp_mask].INCIDENT_ID.count()\n",
    "    \n",
    "    prob_black_giv_arrest = black_arrests / arrests\n",
    "    prob_white_giv_arrest = white_arrests / arrests\n",
    "    prob_hisp_giv_arrest  =  hisp_arrests / arrests\n",
    "\n",
    "    prob_arrest = arrests / pop\n",
    "\n",
    "    prob_arrest_giv_black = prob_black_giv_arrest * prob_arrest / prob_black\n",
    "    prob_arrest_giv_white = prob_white_giv_arrest * prob_arrest / prob_white\n",
    "    prob_arrest_giv_hisp  = prob_hisp_giv_arrest * prob_arrest /  prob_hisp\n",
    "\n",
    "    print(f'Arrest Disparity Among Races in {year}\\n')    \n",
    "    print('Total Arrests: ',         arrests)\n",
    "    print('White Arrests: ',   white_arrests)\n",
    "    print('Black Arrests: ',   black_arrests)\n",
    "    print('Hispanic Arrests: ', hisp_arrests)\n",
    "    print('')\n",
    "    print('Probability if being arrested for drugs if Black: ',     prob_arrest_giv_black)\n",
    "    print('Probability if being arrested for drugs if White: ',     prob_arrest_giv_white)\n",
    "    print('Probability if being arrested for drugs if Hispanic:  ', prob_arrest_giv_hisp)\n",
    "    print('')\n",
    "\n",
    "    print(f'Hispanic people are {np.round(prob_arrest_giv_hisp / prob_arrest_giv_white, 3)} times more likely to be being arrested for drugs than white people')\n",
    "\n",
    "    print(f'Black people are {np.round(prob_arrest_giv_black / prob_arrest_giv_white, 3)} times more likely to be being arrested for drugs than white people')"
   ]
  },
  {
   "cell_type": "code",
   "execution_count": 15,
   "metadata": {},
   "outputs": [
    {
     "name": "stdout",
     "output_type": "stream",
     "text": [
      "Arrest Disparity Among Races in 2018\n",
      "\n",
      "Total Arrests:  15943\n",
      "White Arrests:  10504\n",
      "Black Arrests:  1109\n",
      "Hispanic Arrests:  2527\n",
      "\n",
      "Probability if being arrested for drugs if Black:  0.02306122953991703\n",
      "Probability if being arrested for drugs if White:  0.004211310736773127\n",
      "Probability if being arrested for drugs if Hispanic:   0.005473749534807103\n",
      "\n",
      "Hispanic people are 1.3 times more likely to be being arrested for drugs than white people\n",
      "Black people are 5.476 times more likely to be being arrested for drugs than white people\n"
     ]
    }
   ],
   "source": [
    "disparity(df, 'drug', 2018, 3205958, .778, .015, .144)"
   ]
  },
  {
   "cell_type": "code",
   "execution_count": null,
   "metadata": {},
   "outputs": [],
   "source": []
  },
  {
   "cell_type": "code",
   "execution_count": null,
   "metadata": {},
   "outputs": [],
   "source": []
  },
  {
   "cell_type": "code",
   "execution_count": null,
   "metadata": {},
   "outputs": [],
   "source": []
  },
  {
   "cell_type": "code",
   "execution_count": null,
   "metadata": {},
   "outputs": [],
   "source": []
  },
  {
   "cell_type": "code",
   "execution_count": null,
   "metadata": {},
   "outputs": [],
   "source": []
  }
 ],
 "metadata": {
  "kernelspec": {
   "display_name": "Python 3",
   "language": "python",
   "name": "python3"
  },
  "language_info": {
   "codemirror_mode": {
    "name": "ipython",
    "version": 3
   },
   "file_extension": ".py",
   "mimetype": "text/x-python",
   "name": "python",
   "nbconvert_exporter": "python",
   "pygments_lexer": "ipython3",
   "version": "3.8.5"
  }
 },
 "nbformat": 4,
 "nbformat_minor": 2
}
